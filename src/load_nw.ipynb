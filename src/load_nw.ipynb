{
 "cells": [
  {
   "cell_type": "code",
   "execution_count": null,
   "metadata": {},
   "outputs": [],
   "source": [
    "import openpyxl\n",
    "import pandas as pd"
   ]
  },
  {
   "cell_type": "code",
   "execution_count": null,
   "metadata": {},
   "outputs": [],
   "source": [
    "nw_spreadsheet = '../rawdata/M_Patrimonio.xlsx'\n",
    "wb = openpyxl.load_workbook(nw_spreadsheet, read_only=True)"
   ]
  },
  {
   "cell_type": "code",
   "execution_count": null,
   "metadata": {},
   "outputs": [],
   "source": [
    "years = list(wb.sheetnames)\n",
    "years"
   ]
  },
  {
   "cell_type": "code",
   "execution_count": null,
   "metadata": {},
   "outputs": [],
   "source": [
    "nw_over_months = pd.DataFrame()\n",
    "\n",
    "for year in years:\n",
    "    ws = pd.read_excel(nw_spreadsheet, sheet_name=year)\n",
    "    ws = ws.drop(ws.columns[[2]],axis = 1)\n",
    "    ws = ws.drop(ws.columns[[14]],axis = 1)\n",
    "    ws = ws.dropna(how='all')\n",
    "    ws['Year'] = year\n",
    "    first_column = ws.pop('Year')\n",
    "    ws.insert(0, 'Year', first_column)\n",
    "    ws = ws.drop([ws.index[0]])\n",
    "    ws.insert(1, 'Asset/Liability_Type', None)\n",
    "\n",
    "    for index, row in ws.iterrows():\n",
    "        if pd.isna(row['Cur']):\n",
    "            current_type = row['Asset/Liability']\n",
    "        elif row['Asset/Liability'] == 'Total Net Worth' :\n",
    "            break;\n",
    "        else:\n",
    "            ws.at[index, 'Asset/Liability_Type'] = current_type\n",
    "    \n",
    "    ws.dropna(subset=['Asset/Liability_Type'], inplace=True)\n",
    "\n",
    "    nw_over_months = pd.concat([nw_over_months, ws], axis=0)"
   ]
  },
  {
   "cell_type": "code",
   "execution_count": null,
   "metadata": {},
   "outputs": [],
   "source": [
    "nw_over_months = nw_over_months.reset_index(drop=True)\n",
    "nw_over_months"
   ]
  },
  {
   "cell_type": "code",
   "execution_count": null,
   "metadata": {},
   "outputs": [],
   "source": [
    "nw_over_months.to_excel(\"../rawdata/output/NW_Over_Months.xlsx\")"
   ]
  }
 ],
 "metadata": {
  "kernelspec": {
   "display_name": ".venv",
   "language": "python",
   "name": "python3"
  },
  "language_info": {
   "codemirror_mode": {
    "name": "ipython",
    "version": 3
   },
   "file_extension": ".py",
   "mimetype": "text/x-python",
   "name": "python",
   "nbconvert_exporter": "python",
   "pygments_lexer": "ipython3",
   "version": "3.12.0"
  }
 },
 "nbformat": 4,
 "nbformat_minor": 2
}
