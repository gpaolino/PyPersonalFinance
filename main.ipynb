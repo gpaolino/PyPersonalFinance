{
 "cells": [
  {
   "cell_type": "code",
   "execution_count": null,
   "metadata": {},
   "outputs": [],
   "source": [
    "import glob\n",
    "\n",
    "import pandas as pd\n",
    "\n",
    "from my_utilities import decimal_separator_substitution, string_to_date"
   ]
  },
  {
   "cell_type": "code",
   "execution_count": null,
   "metadata": {},
   "outputs": [],
   "source": [
    "all_df = []\n",
    "\n",
    "# Import old cc statements (until 2020)\n",
    "path = r\"./rawdata/movements/years/recovered/*.csv\"\n",
    "for fname in glob.glob(path):\n",
    "    df = pd.read_csv(fname, quotechar='\"', delimiter=',', converters={'data':string_to_date, 'valuta':string_to_date})\n",
    "    df.rename(columns={'data': 'Data', 'valuta': 'Valuta', 'causale': 'Causale', 'descrizione': 'Descrizione', 'importo': 'Importo', 'divisa': 'Divisa'}, inplace=True)\n",
    "    df = df.drop('codicecausale', axis=1)\n",
    "    all_df.append(df)\n",
    "\n",
    "# Import cc statements (from 2021)\n",
    "path = r\"./rawdata/movements/years/*.csv\"\n",
    "for fname in glob.glob(path):\n",
    "    df = pd.read_csv(fname, quotechar='\"', delimiter=';', converters={'Data':string_to_date, 'Valuta':string_to_date, 'Importo':decimal_separator_substitution})\n",
    "    all_df.append(df)\n",
    "\n",
    "mov_table = pd.concat(all_df)"
   ]
  },
  {
   "cell_type": "code",
   "execution_count": null,
   "metadata": {},
   "outputs": [],
   "source": [
    "mov_table.shape\n",
    "mov_table.head(10)\n",
    "mov_table.tail(10)"
   ]
  },
  {
   "cell_type": "code",
   "execution_count": null,
   "metadata": {},
   "outputs": [],
   "source": [
    "# Extract initial and final balance\n",
    "ini_balance = mov_table[mov_table['Causale'] == '***** SALDO INIZIALE ******']\n",
    "fin_balance = mov_table[mov_table['Causale'] == '****** SALDO FINALE *******']\n",
    "\n",
    "# Remove balance rows from the movement dataframe\n",
    "mov_table.drop(mov_table[mov_table['Causale'] == '***** SALDO INIZIALE ******'].index, inplace = True)\n",
    "mov_table.drop(mov_table[mov_table['Causale'] == '****** SALDO FINALE *******'].index, inplace = True)"
   ]
  },
  {
   "cell_type": "code",
   "execution_count": null,
   "metadata": {},
   "outputs": [],
   "source": [
    "ini_balance\n",
    "fin_balance"
   ]
  },
  {
   "cell_type": "code",
   "execution_count": null,
   "metadata": {},
   "outputs": [],
   "source": [
    "mov_table.shape\n",
    "mov_table.head(10)\n",
    "mov_table.tail(10)"
   ]
  },
  {
   "cell_type": "code",
   "execution_count": null,
   "metadata": {},
   "outputs": [],
   "source": [
    "# Create an integer column to store Importo without using decimal positions\n",
    "mov_table['ImportoNoDecimali'] = pd.to_numeric(mov_table['Importo']).mul(100)\n",
    "mov_table['ImportoNoDecimali'] = mov_table['ImportoNoDecimali'].astype(int)\n",
    "mov_table.drop(columns=['Valuta'], inplace = True)"
   ]
  },
  {
   "cell_type": "code",
   "execution_count": null,
   "metadata": {},
   "outputs": [],
   "source": [
    "mov_table.head(15)"
   ]
  },
  {
   "cell_type": "code",
   "execution_count": null,
   "metadata": {},
   "outputs": [],
   "source": [
    "# Rearrange columns\n",
    "cols = list(mov_table.columns.values)\n",
    "mov_table = mov_table[cols[0:3] + [cols[-2]] + [cols[3]] + [cols[5]]]\n",
    "mov_table.head(15)"
   ]
  },
  {
   "cell_type": "code",
   "execution_count": null,
   "metadata": {},
   "outputs": [],
   "source": [
    "mov_table.tail(15)"
   ]
  }
 ],
 "metadata": {
  "kernelspec": {
   "display_name": ".venv",
   "language": "python",
   "name": "python3"
  },
  "language_info": {
   "codemirror_mode": {
    "name": "ipython",
    "version": 3
   },
   "file_extension": ".py",
   "mimetype": "text/x-python",
   "name": "python",
   "nbconvert_exporter": "python",
   "pygments_lexer": "ipython3",
   "version": "3.12.0"
  }
 },
 "nbformat": 4,
 "nbformat_minor": 2
}
